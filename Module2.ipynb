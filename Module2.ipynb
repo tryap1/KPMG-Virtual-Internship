{
 "cells": [
  {
   "cell_type": "code",
   "execution_count": 3,
   "metadata": {},
   "outputs": [],
   "source": [
    "import pandas as pd\n",
    "\n",
    "demo_df = pd.read_csv('DemoClean.csv')\n",
    "trans_df = pd.read_csv(\"Demonoblanks.csv\")"
   ]
  },
  {
   "cell_type": "code",
   "execution_count": 15,
   "metadata": {},
   "outputs": [
    {
     "data": {
      "text/plain": [
       "2629    18.0\n",
       "1860    18.0\n",
       "180     18.0\n",
       "152     18.0\n",
       "893     18.0\n",
       "        ... \n",
       "0       66.0\n",
       "471     76.0\n",
       "1635    76.0\n",
       "739     84.0\n",
       "509     88.0\n",
       "Name: Age, Length: 2630, dtype: float64"
      ]
     },
     "execution_count": 15,
     "metadata": {},
     "output_type": "execute_result"
    }
   ],
   "source": [
    "#lets look at the age distribution \n",
    "demo_df['Age'].sort_values()#.value_counts()#.plot(kind = 'bar',figsize = (12,12))"
   ]
  },
  {
   "cell_type": "code",
   "execution_count": 135,
   "metadata": {},
   "outputs": [
    {
     "data": {
      "text/plain": [
       "<matplotlib.axes._subplots.AxesSubplot at 0x1196d430>"
      ]
     },
     "execution_count": 135,
     "metadata": {},
     "output_type": "execute_result"
    },
    {
     "data": {
      "image/png": "[encoded data removed]",
      "text/plain": [
       "<Figure size 1152x432 with 1 Axes>"
      ]
     },
     "metadata": {
      "needs_background": "light"
     },
     "output_type": "display_data"
    }
   ],
   "source": [
    "#age demographic\n",
    "group = demo_df[['Age']].groupby('Age')#sort_values(by = 'Age')\n",
    "group.head()\n",
    "group['Age'].value_counts(sort = False).plot(kind = 'bar',figsize = (16,6))"
   ]
  },
  {
   "cell_type": "code",
   "execution_count": 47,
   "metadata": {},
   "outputs": [
    {
     "data": {
      "text/plain": [
       "array([<matplotlib.axes._subplots.AxesSubplot object at 0x064F6CA0>],\n",
       "      dtype=object)"
      ]
     },
     "execution_count": 47,
     "metadata": {},
     "output_type": "execute_result"
    },
    {
     "data": {
      "image/png": "[encoded data removed]",
      "text/plain": [
       "<Figure size 864x360 with 1 Axes>"
      ]
     },
     "metadata": {
      "needs_background": "light"
     },
     "output_type": "display_data"
    }
   ],
   "source": [
    "#job industry category\n",
    "demo_df['gender'].value_counts().plot(kind = 'bar', figsize = (12,5),subplots = True, grid = True)"
   ]
  },
  {
   "cell_type": "code",
   "execution_count": 34,
   "metadata": {},
   "outputs": [
    {
     "data": {
      "text/html": [
       "<div>\n",
       "<style scoped>\n",
       "    .dataframe tbody tr th:only-of-type {\n",
       "        vertical-align: middle;\n",
       "    }\n",
       "\n",
       "    .dataframe tbody tr th {\n",
       "        vertical-align: top;\n",
       "    }\n",
       "\n",
       "    .dataframe thead th {\n",
       "        text-align: right;\n",
       "    }\n",
       "</style>\n",
       "<table border=\"1\" class=\"dataframe\">\n",
       "  <thead>\n",
       "    <tr style=\"text-align: right;\">\n",
       "      <th></th>\n",
       "      <th>customer_id</th>\n",
       "      <th>gender</th>\n",
       "      <th>Age</th>\n",
       "      <th>past_3_years_bike_related_purchases</th>\n",
       "      <th>job_title</th>\n",
       "      <th>job_industry_category</th>\n",
       "      <th>wealth_segment</th>\n",
       "      <th>owns_car</th>\n",
       "    </tr>\n",
       "  </thead>\n",
       "  <tbody>\n",
       "    <tr>\n",
       "      <th>0</th>\n",
       "      <td>1</td>\n",
       "      <td>Female</td>\n",
       "      <td>66.0</td>\n",
       "      <td>93</td>\n",
       "      <td>Executive Secretary</td>\n",
       "      <td>Health</td>\n",
       "      <td>Mass Customer</td>\n",
       "      <td>Yes</td>\n",
       "    </tr>\n",
       "    <tr>\n",
       "      <th>1</th>\n",
       "      <td>2</td>\n",
       "      <td>Male</td>\n",
       "      <td>39.0</td>\n",
       "      <td>81</td>\n",
       "      <td>Administrative Officer</td>\n",
       "      <td>Financial Services</td>\n",
       "      <td>Mass Customer</td>\n",
       "      <td>Yes</td>\n",
       "    </tr>\n",
       "    <tr>\n",
       "      <th>2</th>\n",
       "      <td>3</td>\n",
       "      <td>Male</td>\n",
       "      <td>66.0</td>\n",
       "      <td>61</td>\n",
       "      <td>Recruiting Manager</td>\n",
       "      <td>Property</td>\n",
       "      <td>Mass Customer</td>\n",
       "      <td>Yes</td>\n",
       "    </tr>\n",
       "    <tr>\n",
       "      <th>3</th>\n",
       "      <td>9</td>\n",
       "      <td>Female</td>\n",
       "      <td>47.0</td>\n",
       "      <td>97</td>\n",
       "      <td>Business Systems Development Analyst</td>\n",
       "      <td>Argiculture</td>\n",
       "      <td>Affluent Customer</td>\n",
       "      <td>Yes</td>\n",
       "    </tr>\n",
       "    <tr>\n",
       "      <th>4</th>\n",
       "      <td>10</td>\n",
       "      <td>Female</td>\n",
       "      <td>31.0</td>\n",
       "      <td>49</td>\n",
       "      <td>Senior Quality Engineer</td>\n",
       "      <td>Financial Services</td>\n",
       "      <td>Mass Customer</td>\n",
       "      <td>Yes</td>\n",
       "    </tr>\n",
       "  </tbody>\n",
       "</table>\n",
       "</div>"
      ],
      "text/plain": [
       "   customer_id  gender   Age  past_3_years_bike_related_purchases  \\\n",
       "0            1  Female  66.0                                   93   \n",
       "1            2    Male  39.0                                   81   \n",
       "2            3    Male  66.0                                   61   \n",
       "3            9  Female  47.0                                   97   \n",
       "4           10  Female  31.0                                   49   \n",
       "\n",
       "                              job_title job_industry_category  \\\n",
       "0                   Executive Secretary                Health   \n",
       "1                Administrative Officer    Financial Services   \n",
       "2                    Recruiting Manager              Property   \n",
       "3  Business Systems Development Analyst           Argiculture   \n",
       "4               Senior Quality Engineer    Financial Services   \n",
       "\n",
       "      wealth_segment owns_car  \n",
       "0      Mass Customer      Yes  \n",
       "1      Mass Customer      Yes  \n",
       "2      Mass Customer      Yes  \n",
       "3  Affluent Customer      Yes  \n",
       "4      Mass Customer      Yes  "
      ]
     },
     "execution_count": 34,
     "metadata": {},
     "output_type": "execute_result"
    }
   ],
   "source": [
    "demo_df.head()"
   ]
  },
  {
   "cell_type": "code",
   "execution_count": 49,
   "metadata": {},
   "outputs": [
    {
     "data": {
      "text/plain": [
       "array([<matplotlib.axes._subplots.AxesSubplot object at 0x0653C370>],\n",
       "      dtype=object)"
      ]
     },
     "execution_count": 49,
     "metadata": {},
     "output_type": "execute_result"
    },
    {
     "data": {
      "image/png": "[encoded data removed]",
      "text/plain": [
       "<Figure size 864x360 with 1 Axes>"
      ]
     },
     "metadata": {
      "needs_background": "light"
     },
     "output_type": "display_data"
    }
   ],
   "source": [
    "demo_df['job_industry_category'].value_counts().plot(kind = 'bar', figsize = (12,5),subplots = True, grid = True)"
   ]
  },
  {
   "cell_type": "code",
   "execution_count": 52,
   "metadata": {},
   "outputs": [
    {
     "data": {
      "text/plain": [
       "array([<matplotlib.axes._subplots.AxesSubplot object at 0x06679DC0>],\n",
       "      dtype=object)"
      ]
     },
     "execution_count": 52,
     "metadata": {},
     "output_type": "execute_result"
    },
    {
     "data": {
      "image/png": "[encoded data removed]",
      "text/plain": [
       "<Figure size 864x360 with 1 Axes>"
      ]
     },
     "metadata": {
      "needs_background": "light"
     },
     "output_type": "display_data"
    }
   ],
   "source": [
    "demo_df['wealth_segment'].value_counts().plot(kind = 'bar', figsize = (12,5),subplots = True, grid = True, rot = 1)"
   ]
  },
  {
   "cell_type": "code",
   "execution_count": 53,
   "metadata": {},
   "outputs": [
    {
     "data": {
      "text/plain": [
       "array([<matplotlib.axes._subplots.AxesSubplot object at 0x0ED22BC8>],\n",
       "      dtype=object)"
      ]
     },
     "execution_count": 53,
     "metadata": {},
     "output_type": "execute_result"
    },
    {
     "data": {
      "image/png": "[encoded data removed]",
      "text/plain": [
       "<Figure size 864x360 with 1 Axes>"
      ]
     },
     "metadata": {
      "needs_background": "light"
     },
     "output_type": "display_data"
    }
   ],
   "source": [
    "demo_df['owns_car'].value_counts().plot(kind = 'bar', figsize = (12,5),subplots = True, grid = True, rot = 1)"
   ]
  },
  {
   "cell_type": "code",
   "execution_count": 64,
   "metadata": {},
   "outputs": [
    {
     "data": {
      "text/html": [
       "<div>\n",
       "<style scoped>\n",
       "    .dataframe tbody tr th:only-of-type {\n",
       "        vertical-align: middle;\n",
       "    }\n",
       "\n",
       "    .dataframe tbody tr th {\n",
       "        vertical-align: top;\n",
       "    }\n",
       "\n",
       "    .dataframe thead th {\n",
       "        text-align: right;\n",
       "    }\n",
       "</style>\n",
       "<table border=\"1\" class=\"dataframe\">\n",
       "  <thead>\n",
       "    <tr style=\"text-align: right;\">\n",
       "      <th></th>\n",
       "      <th>owns_car</th>\n",
       "    </tr>\n",
       "    <tr>\n",
       "      <th>customer_id</th>\n",
       "      <th></th>\n",
       "    </tr>\n",
       "  </thead>\n",
       "  <tbody>\n",
       "    <tr>\n",
       "      <th>1</th>\n",
       "      <td>Yes</td>\n",
       "    </tr>\n",
       "    <tr>\n",
       "      <th>2</th>\n",
       "      <td>Yes</td>\n",
       "    </tr>\n",
       "    <tr>\n",
       "      <th>3</th>\n",
       "      <td>Yes</td>\n",
       "    </tr>\n",
       "    <tr>\n",
       "      <th>9</th>\n",
       "      <td>Yes</td>\n",
       "    </tr>\n",
       "    <tr>\n",
       "      <th>10</th>\n",
       "      <td>Yes</td>\n",
       "    </tr>\n",
       "  </tbody>\n",
       "</table>\n",
       "</div>"
      ],
      "text/plain": [
       "            owns_car\n",
       "customer_id         \n",
       "1                Yes\n",
       "2                Yes\n",
       "3                Yes\n",
       "9                Yes\n",
       "10               Yes"
      ]
     },
     "execution_count": 64,
     "metadata": {},
     "output_type": "execute_result"
    }
   ],
   "source": [
    "demo_postcode_cardf = demo_df[['customer_id','owns_car']]\n",
    "demo_postcode_cardf.set_index('customer_id', inplace = True)\n",
    "demo_postcode_cardf.head()"
   ]
  },
  {
   "cell_type": "code",
   "execution_count": 60,
   "metadata": {},
   "outputs": [
    {
     "data": {
      "text/html": [
       "<div>\n",
       "<style scoped>\n",
       "    .dataframe tbody tr th:only-of-type {\n",
       "        vertical-align: middle;\n",
       "    }\n",
       "\n",
       "    .dataframe tbody tr th {\n",
       "        vertical-align: top;\n",
       "    }\n",
       "\n",
       "    .dataframe thead th {\n",
       "        text-align: right;\n",
       "    }\n",
       "</style>\n",
       "<table border=\"1\" class=\"dataframe\">\n",
       "  <thead>\n",
       "    <tr style=\"text-align: right;\">\n",
       "      <th></th>\n",
       "      <th>address</th>\n",
       "      <th>postcode</th>\n",
       "      <th>state</th>\n",
       "      <th>country</th>\n",
       "      <th>property_valuation</th>\n",
       "    </tr>\n",
       "    <tr>\n",
       "      <th>customer_id</th>\n",
       "      <th></th>\n",
       "      <th></th>\n",
       "      <th></th>\n",
       "      <th></th>\n",
       "      <th></th>\n",
       "    </tr>\n",
       "  </thead>\n",
       "  <tbody>\n",
       "    <tr>\n",
       "      <th>1</th>\n",
       "      <td>060 Morning Avenue</td>\n",
       "      <td>2016</td>\n",
       "      <td>NSW</td>\n",
       "      <td>Australia</td>\n",
       "      <td>10</td>\n",
       "    </tr>\n",
       "    <tr>\n",
       "      <th>2</th>\n",
       "      <td>6 Meadow Vale Court</td>\n",
       "      <td>2153</td>\n",
       "      <td>NSW</td>\n",
       "      <td>Australia</td>\n",
       "      <td>10</td>\n",
       "    </tr>\n",
       "    <tr>\n",
       "      <th>4</th>\n",
       "      <td>0 Holy Cross Court</td>\n",
       "      <td>4211</td>\n",
       "      <td>QLD</td>\n",
       "      <td>Australia</td>\n",
       "      <td>9</td>\n",
       "    </tr>\n",
       "    <tr>\n",
       "      <th>5</th>\n",
       "      <td>17979 Del Mar Point</td>\n",
       "      <td>2448</td>\n",
       "      <td>NSW</td>\n",
       "      <td>Australia</td>\n",
       "      <td>4</td>\n",
       "    </tr>\n",
       "    <tr>\n",
       "      <th>6</th>\n",
       "      <td>9 Oakridge Court</td>\n",
       "      <td>3216</td>\n",
       "      <td>VIC</td>\n",
       "      <td>Australia</td>\n",
       "      <td>9</td>\n",
       "    </tr>\n",
       "  </tbody>\n",
       "</table>\n",
       "</div>"
      ],
      "text/plain": [
       "                         address  postcode state    country  \\\n",
       "customer_id                                                   \n",
       "1             060 Morning Avenue      2016   NSW  Australia   \n",
       "2            6 Meadow Vale Court      2153   NSW  Australia   \n",
       "4             0 Holy Cross Court      4211   QLD  Australia   \n",
       "5            17979 Del Mar Point      2448   NSW  Australia   \n",
       "6               9 Oakridge Court      3216   VIC  Australia   \n",
       "\n",
       "             property_valuation  \n",
       "customer_id                      \n",
       "1                            10  \n",
       "2                            10  \n",
       "4                             9  \n",
       "5                             4  \n",
       "6                             9  "
      ]
     },
     "execution_count": 60,
     "metadata": {},
     "output_type": "execute_result"
    }
   ],
   "source": [
    "address_df = pd.read_csv(\"AddressClean.csv\")\n",
    "address_df.set_index('customer_id',inplace = True)\n",
    "address_df.head()"
   ]
  },
  {
   "cell_type": "code",
   "execution_count": 86,
   "metadata": {},
   "outputs": [
    {
     "data": {
      "text/html": [
       "<div>\n",
       "<style scoped>\n",
       "    .dataframe tbody tr th:only-of-type {\n",
       "        vertical-align: middle;\n",
       "    }\n",
       "\n",
       "    .dataframe tbody tr th {\n",
       "        vertical-align: top;\n",
       "    }\n",
       "\n",
       "    .dataframe thead th {\n",
       "        text-align: right;\n",
       "    }\n",
       "</style>\n",
       "<table border=\"1\" class=\"dataframe\">\n",
       "  <thead>\n",
       "    <tr style=\"text-align: right;\">\n",
       "      <th></th>\n",
       "      <th>owns_car</th>\n",
       "      <th>state</th>\n",
       "    </tr>\n",
       "    <tr>\n",
       "      <th>customer_id</th>\n",
       "      <th></th>\n",
       "      <th></th>\n",
       "    </tr>\n",
       "  </thead>\n",
       "  <tbody>\n",
       "    <tr>\n",
       "      <th>1</th>\n",
       "      <td>Yes</td>\n",
       "      <td>NSW</td>\n",
       "    </tr>\n",
       "    <tr>\n",
       "      <th>2</th>\n",
       "      <td>Yes</td>\n",
       "      <td>NSW</td>\n",
       "    </tr>\n",
       "    <tr>\n",
       "      <th>9</th>\n",
       "      <td>Yes</td>\n",
       "      <td>NSW</td>\n",
       "    </tr>\n",
       "    <tr>\n",
       "      <th>12</th>\n",
       "      <td>No</td>\n",
       "      <td>QLD</td>\n",
       "    </tr>\n",
       "    <tr>\n",
       "      <th>13</th>\n",
       "      <td>Yes</td>\n",
       "      <td>VIC</td>\n",
       "    </tr>\n",
       "  </tbody>\n",
       "</table>\n",
       "</div>"
      ],
      "text/plain": [
       "            owns_car state\n",
       "customer_id               \n",
       "1                Yes   NSW\n",
       "2                Yes   NSW\n",
       "9                Yes   NSW\n",
       "12                No   QLD\n",
       "13               Yes   VIC"
      ]
     },
     "execution_count": 86,
     "metadata": {},
     "output_type": "execute_result"
    }
   ],
   "source": [
    "new = demo_postcode_cardf.join(address_df['state']).dropna()\n",
    "new.head()"
   ]
  },
  {
   "cell_type": "code",
   "execution_count": 87,
   "metadata": {},
   "outputs": [],
   "source": [
    "new = new.groupby('state')"
   ]
  },
  {
   "cell_type": "code",
   "execution_count": 112,
   "metadata": {},
   "outputs": [],
   "source": [
    "\n",
    "dfnsw = new.get_group('NSW')[['owns_car','state']]\n",
    "#df.reset_index(inplace = True)"
   ]
  },
  {
   "cell_type": "code",
   "execution_count": 113,
   "metadata": {},
   "outputs": [
    {
     "data": {
      "text/plain": [
       "array([<matplotlib.axes._subplots.AxesSubplot object at 0x0F3CF370>],\n",
       "      dtype=object)"
      ]
     },
     "execution_count": 113,
     "metadata": {},
     "output_type": "execute_result"
    },
    {
     "data": {
      "image/png": "[encoded data removed]",
      "text/plain": [
       "<Figure size 864x360 with 1 Axes>"
      ]
     },
     "metadata": {
      "needs_background": "light"
     },
     "output_type": "display_data"
    }
   ],
   "source": [
    "dfnsw['owns_car'].value_counts().plot(kind = 'bar', figsize = (12,5),subplots = True, grid = True, rot = 1)"
   ]
  },
  {
   "cell_type": "code",
   "execution_count": 117,
   "metadata": {},
   "outputs": [],
   "source": [
    "dfqld = new.get_group('QLD')[['owns_car','state']]\n",
    "dfvic = new.get_group('VIC')[['owns_car','state']]"
   ]
  },
  {
   "cell_type": "code",
   "execution_count": 118,
   "metadata": {},
   "outputs": [
    {
     "name": "stdout",
     "output_type": "stream",
     "text": [
      "NSW\n",
      "Yes    734\n",
      "No     677\n",
      "Name: owns_car, dtype: int64\n",
      "QLD\n",
      "Yes    281\n",
      "No     267\n",
      "Name: owns_car, dtype: int64\n",
      "VIC\n",
      "Yes    344\n",
      "No     325\n",
      "Name: owns_car, dtype: int64\n"
     ]
    }
   ],
   "source": [
    "print(\"NSW\")\n",
    "print(df['owns_car'].value_counts())\n",
    "print(\"QLD\")\n",
    "print(dfqld['owns_car'].value_counts())\n",
    "print(\"VIC\")\n",
    "print(dfvic['owns_car'].value_counts())"
   ]
  },
  {
   "cell_type": "code",
   "execution_count": 130,
   "metadata": {},
   "outputs": [
    {
     "data": {
      "image/png": "[encoded data removed]",
      "text/plain": [
       "<Figure size 864x504 with 1 Axes>"
      ]
     },
     "metadata": {
      "needs_background": "light"
     },
     "output_type": "display_data"
    }
   ],
   "source": [
    "import matplotlib.pyplot as plt\n",
    "import numpy as np\n",
    "x = ['NSW_car','NSW_nocar','QLD_car','QLD_nocar','VIC_car','VIC_nocar']\n",
    "y = [734,677,281,267,344,325]\n",
    "\n",
    "fig = plt.figure(figsize = (12,7))\n",
    "ax = fig.add_subplot(111)\n",
    "ax.set_xticks(np.arange(len(x)))\n",
    "plt.bar(x = x,height = y, width = 0.4)\n",
    "\n",
    "plt.show()"
   ]
  },
  {
   "cell_type": "code",
   "execution_count": 146,
   "metadata": {},
   "outputs": [
    {
     "data": {
      "text/html": [
       "<div>\n",
       "<style scoped>\n",
       "    .dataframe tbody tr th:only-of-type {\n",
       "        vertical-align: middle;\n",
       "    }\n",
       "\n",
       "    .dataframe tbody tr th {\n",
       "        vertical-align: top;\n",
       "    }\n",
       "\n",
       "    .dataframe thead th {\n",
       "        text-align: right;\n",
       "    }\n",
       "</style>\n",
       "<table border=\"1\" class=\"dataframe\">\n",
       "  <thead>\n",
       "    <tr style=\"text-align: right;\">\n",
       "      <th></th>\n",
       "      <th>Age</th>\n",
       "    </tr>\n",
       "  </thead>\n",
       "  <tbody>\n",
       "    <tr>\n",
       "      <th>0</th>\n",
       "      <td>66.0</td>\n",
       "    </tr>\n",
       "    <tr>\n",
       "      <th>1</th>\n",
       "      <td>39.0</td>\n",
       "    </tr>\n",
       "    <tr>\n",
       "      <th>2</th>\n",
       "      <td>66.0</td>\n",
       "    </tr>\n",
       "    <tr>\n",
       "      <th>3</th>\n",
       "      <td>47.0</td>\n",
       "    </tr>\n",
       "    <tr>\n",
       "      <th>4</th>\n",
       "      <td>31.0</td>\n",
       "    </tr>\n",
       "    <tr>\n",
       "      <th>...</th>\n",
       "      <td>...</td>\n",
       "    </tr>\n",
       "    <tr>\n",
       "      <th>584</th>\n",
       "      <td>20.0</td>\n",
       "    </tr>\n",
       "    <tr>\n",
       "      <th>591</th>\n",
       "      <td>50.0</td>\n",
       "    </tr>\n",
       "    <tr>\n",
       "      <th>690</th>\n",
       "      <td>57.0</td>\n",
       "    </tr>\n",
       "    <tr>\n",
       "      <th>739</th>\n",
       "      <td>84.0</td>\n",
       "    </tr>\n",
       "    <tr>\n",
       "      <th>1635</th>\n",
       "      <td>76.0</td>\n",
       "    </tr>\n",
       "  </tbody>\n",
       "</table>\n",
       "<p>249 rows × 1 columns</p>\n",
       "</div>"
      ],
      "text/plain": [
       "       Age\n",
       "0     66.0\n",
       "1     39.0\n",
       "2     66.0\n",
       "3     47.0\n",
       "4     31.0\n",
       "...    ...\n",
       "584   20.0\n",
       "591   50.0\n",
       "690   57.0\n",
       "739   84.0\n",
       "1635  76.0\n",
       "\n",
       "[249 rows x 1 columns]"
      ]
     },
     "execution_count": 146,
     "metadata": {},
     "output_type": "execute_result"
    }
   ],
   "source": [
    "group = demo_df[['Age']].groupby('Age')#sort_values(by = 'Age')\n",
    "#group['Age'].unique()\n",
    "len(group['Age'])\n",
    "group.head()"
   ]
  },
  {
   "cell_type": "code",
   "execution_count": 144,
   "metadata": {},
   "outputs": [
    {
     "data": {
      "text/plain": [
       "<pandas.core.groupby.generic.DataFrameGroupBy object at 0x119BBD30>"
      ]
     },
     "execution_count": 144,
     "metadata": {},
     "output_type": "execute_result"
    }
   ],
   "source": [
    "age_wealth_df = demo_df[['customer_id','Age','wealth_segment']]\n",
    "age_wealth_df.groupby('Age')"
   ]
  },
  {
   "cell_type": "code",
   "execution_count": 163,
   "metadata": {},
   "outputs": [
    {
     "data": {
      "text/html": [
       "<div>\n",
       "<style scoped>\n",
       "    .dataframe tbody tr th:only-of-type {\n",
       "        vertical-align: middle;\n",
       "    }\n",
       "\n",
       "    .dataframe tbody tr th {\n",
       "        vertical-align: top;\n",
       "    }\n",
       "\n",
       "    .dataframe thead th {\n",
       "        text-align: right;\n",
       "    }\n",
       "</style>\n",
       "<table border=\"1\" class=\"dataframe\">\n",
       "  <thead>\n",
       "    <tr style=\"text-align: right;\">\n",
       "      <th></th>\n",
       "      <th>customer_id</th>\n",
       "      <th>Age</th>\n",
       "      <th>wealth_segment</th>\n",
       "    </tr>\n",
       "  </thead>\n",
       "  <tbody>\n",
       "    <tr>\n",
       "      <th>0</th>\n",
       "      <td>3997</td>\n",
       "      <td>18.0</td>\n",
       "      <td>High Net Worth</td>\n",
       "    </tr>\n",
       "    <tr>\n",
       "      <th>1</th>\n",
       "      <td>2759</td>\n",
       "      <td>18.0</td>\n",
       "      <td>Affluent Customer</td>\n",
       "    </tr>\n",
       "    <tr>\n",
       "      <th>2</th>\n",
       "      <td>245</td>\n",
       "      <td>18.0</td>\n",
       "      <td>Affluent Customer</td>\n",
       "    </tr>\n",
       "    <tr>\n",
       "      <th>3</th>\n",
       "      <td>212</td>\n",
       "      <td>18.0</td>\n",
       "      <td>Affluent Customer</td>\n",
       "    </tr>\n",
       "    <tr>\n",
       "      <th>4</th>\n",
       "      <td>1322</td>\n",
       "      <td>18.0</td>\n",
       "      <td>Mass Customer</td>\n",
       "    </tr>\n",
       "  </tbody>\n",
       "</table>\n",
       "</div>"
      ],
      "text/plain": [
       "   customer_id   Age     wealth_segment\n",
       "0         3997  18.0     High Net Worth\n",
       "1         2759  18.0  Affluent Customer\n",
       "2          245  18.0  Affluent Customer\n",
       "3          212  18.0  Affluent Customer\n",
       "4         1322  18.0      Mass Customer"
      ]
     },
     "execution_count": 163,
     "metadata": {},
     "output_type": "execute_result"
    }
   ],
   "source": [
    "sorted_age = age_wealth_df.sort_values('Age').set_index('customer_id')\n",
    "sorted_age.reset_index(inplace = True)\n",
    "sorted_age.head()"
   ]
  },
  {
   "cell_type": "code",
   "execution_count": 158,
   "metadata": {},
   "outputs": [
    {
     "data": {
      "text/plain": [
       "18.0"
      ]
     },
     "execution_count": 158,
     "metadata": {},
     "output_type": "execute_result"
    }
   ],
   "source": [
    "sorted_age['Age'][0]"
   ]
  },
  {
   "cell_type": "code",
   "execution_count": 166,
   "metadata": {},
   "outputs": [
    {
     "data": {
      "text/plain": [
       "2630"
      ]
     },
     "execution_count": 166,
     "metadata": {},
     "output_type": "execute_result"
    }
   ],
   "source": [
    "len(sorted_age)"
   ]
  },
  {
   "cell_type": "code",
   "execution_count": 170,
   "metadata": {},
   "outputs": [
    {
     "data": {
      "text/plain": [
       "array([18., 19., 20., 21., 22., 23., 24., 25., 26., 27., 28., 29., 30.,\n",
       "       31., 32., 33., 34., 35., 36., 37., 38., 39., 40., 41., 42., 43.,\n",
       "       44., 45., 46., 47., 48., 49., 50., 51., 52., 53., 54., 55., 56.,\n",
       "       57., 58., 59., 60., 61., 62., 63., 64., 65., 66., 76., 84., 88.])"
      ]
     },
     "execution_count": 170,
     "metadata": {},
     "output_type": "execute_result"
    }
   ],
   "source": [
    "#seperate the age groups so we can look at wealth segment of respective age groups\n",
    "sorted_age['Age'].unique()"
   ]
  },
  {
   "cell_type": "code",
   "execution_count": 181,
   "metadata": {},
   "outputs": [],
   "source": [
    "seg1 = sorted_age[sorted_age['Age']<=30]\n",
    "seg2 = sorted_age[(sorted_age['Age']>30) & (sorted_age['Age']<=43)]\n",
    "seg3 = sorted_age[(sorted_age['Age']>43) & (sorted_age['Age']<=56)]\n",
    "seg4 = sorted_age[(sorted_age['Age']>56) & (sorted_age['Age']<=88)]\n"
   ]
  },
  {
   "cell_type": "code",
   "execution_count": 182,
   "metadata": {},
   "outputs": [
    {
     "data": {
      "text/html": [
       "<div>\n",
       "<style scoped>\n",
       "    .dataframe tbody tr th:only-of-type {\n",
       "        vertical-align: middle;\n",
       "    }\n",
       "\n",
       "    .dataframe tbody tr th {\n",
       "        vertical-align: top;\n",
       "    }\n",
       "\n",
       "    .dataframe thead th {\n",
       "        text-align: right;\n",
       "    }\n",
       "</style>\n",
       "<table border=\"1\" class=\"dataframe\">\n",
       "  <thead>\n",
       "    <tr style=\"text-align: right;\">\n",
       "      <th></th>\n",
       "      <th>customer_id</th>\n",
       "      <th>Age</th>\n",
       "      <th>wealth_segment</th>\n",
       "    </tr>\n",
       "  </thead>\n",
       "  <tbody>\n",
       "    <tr>\n",
       "      <th>0</th>\n",
       "      <td>3997</td>\n",
       "      <td>18.0</td>\n",
       "      <td>High Net Worth</td>\n",
       "    </tr>\n",
       "    <tr>\n",
       "      <th>1</th>\n",
       "      <td>2759</td>\n",
       "      <td>18.0</td>\n",
       "      <td>Affluent Customer</td>\n",
       "    </tr>\n",
       "    <tr>\n",
       "      <th>2</th>\n",
       "      <td>245</td>\n",
       "      <td>18.0</td>\n",
       "      <td>Affluent Customer</td>\n",
       "    </tr>\n",
       "    <tr>\n",
       "      <th>3</th>\n",
       "      <td>212</td>\n",
       "      <td>18.0</td>\n",
       "      <td>Affluent Customer</td>\n",
       "    </tr>\n",
       "    <tr>\n",
       "      <th>4</th>\n",
       "      <td>1322</td>\n",
       "      <td>18.0</td>\n",
       "      <td>Mass Customer</td>\n",
       "    </tr>\n",
       "  </tbody>\n",
       "</table>\n",
       "</div>"
      ],
      "text/plain": [
       "   customer_id   Age     wealth_segment\n",
       "0         3997  18.0     High Net Worth\n",
       "1         2759  18.0  Affluent Customer\n",
       "2          245  18.0  Affluent Customer\n",
       "3          212  18.0  Affluent Customer\n",
       "4         1322  18.0      Mass Customer"
      ]
     },
     "execution_count": 182,
     "metadata": {},
     "output_type": "execute_result"
    }
   ],
   "source": [
    "seg1.head()"
   ]
  },
  {
   "cell_type": "code",
   "execution_count": 183,
   "metadata": {},
   "outputs": [
    {
     "name": "stdout",
     "output_type": "stream",
     "text": [
      "seg1\n",
      "Mass Customer        260\n",
      "Affluent Customer    148\n",
      "High Net Worth       141\n",
      "Name: wealth_segment, dtype: int64\n",
      "seg2\n",
      "Mass Customer        459\n",
      "High Net Worth       241\n",
      "Affluent Customer    213\n",
      "Name: wealth_segment, dtype: int64\n",
      "seg3\n",
      "Mass Customer        373\n",
      "Affluent Customer    198\n",
      "High Net Worth       191\n",
      "Name: wealth_segment, dtype: int64\n",
      "seg4\n",
      "Mass Customer        208\n",
      "High Net Worth       101\n",
      "Affluent Customer     97\n",
      "Name: wealth_segment, dtype: int64\n"
     ]
    }
   ],
   "source": [
    "print('seg1')\n",
    "print(seg1['wealth_segment'].value_counts())#.plot(kind = 'bar', figsize = (12,5),subplots = True, grid = True, rot = 1)\n",
    "print('seg2')\n",
    "print(seg2['wealth_segment'].value_counts())\n",
    "print('seg3')\n",
    "print(seg3['wealth_segment'].value_counts())\n",
    "print('seg4')\n",
    "print(seg4['wealth_segment'].value_counts())"
   ]
  },
  {
   "cell_type": "code",
   "execution_count": 187,
   "metadata": {},
   "outputs": [
    {
     "data": {
      "text/plain": [
       "<matplotlib.axes._subplots.AxesSubplot at 0x10f58448>"
      ]
     },
     "execution_count": 187,
     "metadata": {},
     "output_type": "execute_result"
    },
    {
     "data": {
      "image/png": "[encoded data removed]",
      "text/plain": [
       "<Figure size 1080x432 with 1 Axes>"
      ]
     },
     "metadata": {
      "needs_background": "light"
     },
     "output_type": "display_data"
    }
   ],
   "source": [
    "MC = [260,459,373,208]\n",
    "AC = [148,213,198,97]\n",
    "HW = [141,241,191,101]\n",
    "\n",
    "index = ['18>age>31', '31>age>44','44>age>57','57>age>89']\n",
    "\n",
    "final = pd.DataFrame({'Mass Customer': MC, 'Affluent Customer': AC, 'High Net Worth': HW}, index = index)\n",
    "\n",
    "final.plot(kind = 'bar', rot = 0,grid = 1, figsize = (15,6))\n"
   ]
  },
  {
   "cell_type": "code",
   "execution_count": null,
   "metadata": {},
   "outputs": [],
   "source": []
  }
 ],
 "metadata": {
  "kernelspec": {
   "display_name": "Python 3",
   "language": "python",
   "name": "python3"
  },
  "language_info": {
   "codemirror_mode": {
    "name": "ipython",
    "version": 3
   },
   "file_extension": ".py",
   "mimetype": "text/x-python",
   "name": "python",
   "nbconvert_exporter": "python",
   "pygments_lexer": "ipython3",
   "version": "3.8.3"
  }
 },
 "nbformat": 4,
 "nbformat_minor": 4
}
